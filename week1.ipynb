{
 "cells": [
  {
   "cell_type": "markdown",
   "id": "bcd8040d-bff9-4783-9a4b-5394cd21c336",
   "metadata": {},
   "source": [
    "# Discussion 1: Creating Widgets for Multiple Linear Regression"
   ]
  },
  {
   "cell_type": "markdown",
   "id": "cfa03869-3134-4ef7-9769-b76afc5b3b26",
   "metadata": {},
   "source": [
    "## Load Packages"
   ]
  },
  {
   "cell_type": "code",
   "execution_count": 1,
   "id": "49e56d80-b214-464e-b54a-224a877453c6",
   "metadata": {
    "tags": []
   },
   "outputs": [],
   "source": [
    "import os\n",
    "import pandas as pd\n",
    "import numpy as np\n",
    "from sklearn.linear_model import LinearRegression\n",
    "from sklearn.model_selection import train_test_split\n",
    "from sklearn.metrics import mean_squared_error, r2_score\n",
    "import matplotlib.pyplot as plt\n",
    "from ipywidgets import interact\n",
    "import ipywidgets as widgets\n",
    "from ipywidgets import interact, FloatSlider\n",
    "from IPython.display import display, clear_output"
   ]
  },
  {
   "cell_type": "markdown",
   "id": "20a1690c-708b-4271-ae98-1b2ad9ce66e2",
   "metadata": {},
   "source": [
    "## Data Loading"
   ]
  },
  {
   "cell_type": "code",
   "execution_count": 2,
   "id": "863185e5-e35d-4ece-981d-97373115a935",
   "metadata": {},
   "outputs": [],
   "source": [
    "# Create a reproducible file path\n",
    "fp = os.path.join(\"data\", \"Hurricane Irene and the Hudson River.xlsx\")\n",
    "\n",
    "do_data = pd.read_excel(fp, sheet_name = 5).drop([\"Piermont D.O. (ppm)\"], axis = 1)\n",
    "rainfall_data =  pd.read_excel(fp, sheet_name = \"Rainfall\").drop([\"Piermont  Rainfall Daily Accumulation (Inches)\"], axis = 1)\n",
    "turbidity_data =  pd.read_excel(fp, sheet_name = \"Turbidity\").drop([\"Piermont Turbidity in NTU\"], axis = 1)"
   ]
  },
  {
   "cell_type": "markdown",
   "id": "76a36465-bd97-46ad-96ea-ff174e5e1854",
   "metadata": {},
   "source": [
    "## Data Cleaning"
   ]
  },
  {
   "cell_type": "code",
   "execution_count": 3,
   "id": "f6ed4bf8-e6f0-4c03-980c-7b0f90ad35ee",
   "metadata": {
    "tags": []
   },
   "outputs": [
    {
     "data": {
      "text/html": [
       "<div>\n",
       "<style scoped>\n",
       "    .dataframe tbody tr th:only-of-type {\n",
       "        vertical-align: middle;\n",
       "    }\n",
       "\n",
       "    .dataframe tbody tr th {\n",
       "        vertical-align: top;\n",
       "    }\n",
       "\n",
       "    .dataframe thead th {\n",
       "        text-align: right;\n",
       "    }\n",
       "</style>\n",
       "<table border=\"1\" class=\"dataframe\">\n",
       "  <thead>\n",
       "    <tr style=\"text-align: right;\">\n",
       "      <th></th>\n",
       "      <th>Date Time (ET)</th>\n",
       "      <th>Port of Albany Rainfall Daily Accumulation (Inches)</th>\n",
       "      <th>Norrie Point  Rainfall Daily Accumulation (Inches)</th>\n",
       "      <th>Port of Albany Turbidity in NTU</th>\n",
       "      <th>Norrie Point Turbidity in NTU</th>\n",
       "      <th>Port of Albany D.O. (ppm)</th>\n",
       "      <th>Norrie Point D.O. (ppm)</th>\n",
       "    </tr>\n",
       "  </thead>\n",
       "  <tbody>\n",
       "    <tr>\n",
       "      <th>0</th>\n",
       "      <td>2011-08-25 00:00:00</td>\n",
       "      <td>0.0</td>\n",
       "      <td>0.0</td>\n",
       "      <td>4.0</td>\n",
       "      <td>9.3</td>\n",
       "      <td>7.68</td>\n",
       "      <td>7.81</td>\n",
       "    </tr>\n",
       "    <tr>\n",
       "      <th>1</th>\n",
       "      <td>2011-08-25 00:15:00</td>\n",
       "      <td>0.0</td>\n",
       "      <td>0.0</td>\n",
       "      <td>3.9</td>\n",
       "      <td>8.4</td>\n",
       "      <td>7.60</td>\n",
       "      <td>7.73</td>\n",
       "    </tr>\n",
       "    <tr>\n",
       "      <th>2</th>\n",
       "      <td>2011-08-25 00:30:00</td>\n",
       "      <td>0.0</td>\n",
       "      <td>0.0</td>\n",
       "      <td>4.3</td>\n",
       "      <td>7.9</td>\n",
       "      <td>7.57</td>\n",
       "      <td>7.63</td>\n",
       "    </tr>\n",
       "    <tr>\n",
       "      <th>3</th>\n",
       "      <td>2011-08-25 00:45:00</td>\n",
       "      <td>0.0</td>\n",
       "      <td>0.0</td>\n",
       "      <td>4.7</td>\n",
       "      <td>8.1</td>\n",
       "      <td>7.72</td>\n",
       "      <td>7.67</td>\n",
       "    </tr>\n",
       "    <tr>\n",
       "      <th>4</th>\n",
       "      <td>2011-08-25 01:00:00</td>\n",
       "      <td>0.0</td>\n",
       "      <td>0.0</td>\n",
       "      <td>4.4</td>\n",
       "      <td>8.4</td>\n",
       "      <td>7.74</td>\n",
       "      <td>7.63</td>\n",
       "    </tr>\n",
       "  </tbody>\n",
       "</table>\n",
       "</div>"
      ],
      "text/plain": [
       "       Date Time (ET)   Port of Albany Rainfall Daily Accumulation (Inches)  \\\n",
       "0 2011-08-25 00:00:00                                                0.0      \n",
       "1 2011-08-25 00:15:00                                                0.0      \n",
       "2 2011-08-25 00:30:00                                                0.0      \n",
       "3 2011-08-25 00:45:00                                                0.0      \n",
       "4 2011-08-25 01:00:00                                                0.0      \n",
       "\n",
       "   Norrie Point  Rainfall Daily Accumulation (Inches)  \\\n",
       "0                                                0.0    \n",
       "1                                                0.0    \n",
       "2                                                0.0    \n",
       "3                                                0.0    \n",
       "4                                                0.0    \n",
       "\n",
       "    Port of Albany Turbidity in NTU  Norrie Point Turbidity in NTU  \\\n",
       "0                               4.0                            9.3   \n",
       "1                               3.9                            8.4   \n",
       "2                               4.3                            7.9   \n",
       "3                               4.7                            8.1   \n",
       "4                               4.4                            8.4   \n",
       "\n",
       "    Port of Albany D.O. (ppm)  Norrie Point D.O. (ppm)  \n",
       "0                        7.68                     7.81  \n",
       "1                        7.60                     7.73  \n",
       "2                        7.57                     7.63  \n",
       "3                        7.72                     7.67  \n",
       "4                        7.74                     7.63  "
      ]
     },
     "execution_count": 3,
     "metadata": {},
     "output_type": "execute_result"
    }
   ],
   "source": [
    "# Merge the two datasets\n",
    "data = rainfall_data.merge(turbidity_data, on = \"Date Time (ET)\")\n",
    "data = data.merge(do_data, on = \"Date Time (ET)\")\n",
    "\n",
    "# Verify\n",
    "data.head()"
   ]
  },
  {
   "cell_type": "code",
   "execution_count": 4,
   "id": "4866128f-21ba-45b6-8add-ed548a27bc35",
   "metadata": {
    "tags": []
   },
   "outputs": [
    {
     "data": {
      "text/html": [
       "<div>\n",
       "<style scoped>\n",
       "    .dataframe tbody tr th:only-of-type {\n",
       "        vertical-align: middle;\n",
       "    }\n",
       "\n",
       "    .dataframe tbody tr th {\n",
       "        vertical-align: top;\n",
       "    }\n",
       "\n",
       "    .dataframe thead th {\n",
       "        text-align: right;\n",
       "    }\n",
       "</style>\n",
       "<table border=\"1\" class=\"dataframe\">\n",
       "  <thead>\n",
       "    <tr style=\"text-align: right;\">\n",
       "      <th></th>\n",
       "      <th>date</th>\n",
       "      <th>albany_rainfall</th>\n",
       "      <th>norrie_rainfall</th>\n",
       "      <th>albany_turbidity</th>\n",
       "      <th>norrie_turbidity</th>\n",
       "      <th>albany_do</th>\n",
       "      <th>norrie_do</th>\n",
       "    </tr>\n",
       "  </thead>\n",
       "  <tbody>\n",
       "    <tr>\n",
       "      <th>0</th>\n",
       "      <td>2011-08-25 00:00:00</td>\n",
       "      <td>0.0</td>\n",
       "      <td>0.0</td>\n",
       "      <td>4.0</td>\n",
       "      <td>9.3</td>\n",
       "      <td>7.68</td>\n",
       "      <td>7.81</td>\n",
       "    </tr>\n",
       "    <tr>\n",
       "      <th>1</th>\n",
       "      <td>2011-08-25 00:15:00</td>\n",
       "      <td>0.0</td>\n",
       "      <td>0.0</td>\n",
       "      <td>3.9</td>\n",
       "      <td>8.4</td>\n",
       "      <td>7.60</td>\n",
       "      <td>7.73</td>\n",
       "    </tr>\n",
       "    <tr>\n",
       "      <th>2</th>\n",
       "      <td>2011-08-25 00:30:00</td>\n",
       "      <td>0.0</td>\n",
       "      <td>0.0</td>\n",
       "      <td>4.3</td>\n",
       "      <td>7.9</td>\n",
       "      <td>7.57</td>\n",
       "      <td>7.63</td>\n",
       "    </tr>\n",
       "    <tr>\n",
       "      <th>3</th>\n",
       "      <td>2011-08-25 00:45:00</td>\n",
       "      <td>0.0</td>\n",
       "      <td>0.0</td>\n",
       "      <td>4.7</td>\n",
       "      <td>8.1</td>\n",
       "      <td>7.72</td>\n",
       "      <td>7.67</td>\n",
       "    </tr>\n",
       "    <tr>\n",
       "      <th>4</th>\n",
       "      <td>2011-08-25 01:00:00</td>\n",
       "      <td>0.0</td>\n",
       "      <td>0.0</td>\n",
       "      <td>4.4</td>\n",
       "      <td>8.4</td>\n",
       "      <td>7.74</td>\n",
       "      <td>7.63</td>\n",
       "    </tr>\n",
       "  </tbody>\n",
       "</table>\n",
       "</div>"
      ],
      "text/plain": [
       "                 date  albany_rainfall  norrie_rainfall  albany_turbidity  \\\n",
       "0 2011-08-25 00:00:00              0.0              0.0               4.0   \n",
       "1 2011-08-25 00:15:00              0.0              0.0               3.9   \n",
       "2 2011-08-25 00:30:00              0.0              0.0               4.3   \n",
       "3 2011-08-25 00:45:00              0.0              0.0               4.7   \n",
       "4 2011-08-25 01:00:00              0.0              0.0               4.4   \n",
       "\n",
       "   norrie_turbidity  albany_do  norrie_do  \n",
       "0               9.3       7.68       7.81  \n",
       "1               8.4       7.60       7.73  \n",
       "2               7.9       7.57       7.63  \n",
       "3               8.1       7.72       7.67  \n",
       "4               8.4       7.74       7.63  "
      ]
     },
     "execution_count": 4,
     "metadata": {},
     "output_type": "execute_result"
    }
   ],
   "source": [
    "# Update the column names\n",
    "data.columns = [\"date\", \"albany_rainfall\", \"norrie_rainfall\", \"albany_turbidity\", \"norrie_turbidity\", \"albany_do\", \"norrie_do\"]\n",
    "\n",
    "# Verify\n",
    "data.head()"
   ]
  },
  {
   "cell_type": "code",
   "execution_count": 5,
   "id": "865625ff-e669-4df9-9592-b916fb36963f",
   "metadata": {
    "tags": []
   },
   "outputs": [
    {
     "data": {
      "text/html": [
       "<div>\n",
       "<style scoped>\n",
       "    .dataframe tbody tr th:only-of-type {\n",
       "        vertical-align: middle;\n",
       "    }\n",
       "\n",
       "    .dataframe tbody tr th {\n",
       "        vertical-align: top;\n",
       "    }\n",
       "\n",
       "    .dataframe thead th {\n",
       "        text-align: right;\n",
       "    }\n",
       "</style>\n",
       "<table border=\"1\" class=\"dataframe\">\n",
       "  <thead>\n",
       "    <tr style=\"text-align: right;\">\n",
       "      <th></th>\n",
       "      <th>albany_rainfall</th>\n",
       "      <th>norrie_rainfall</th>\n",
       "      <th>albany_turbidity</th>\n",
       "      <th>norrie_turbidity</th>\n",
       "      <th>albany_do</th>\n",
       "      <th>norrie_do</th>\n",
       "    </tr>\n",
       "    <tr>\n",
       "      <th>date</th>\n",
       "      <th></th>\n",
       "      <th></th>\n",
       "      <th></th>\n",
       "      <th></th>\n",
       "      <th></th>\n",
       "      <th></th>\n",
       "    </tr>\n",
       "  </thead>\n",
       "  <tbody>\n",
       "    <tr>\n",
       "      <th>2011-08-25 00:00:00</th>\n",
       "      <td>0.0</td>\n",
       "      <td>0.0</td>\n",
       "      <td>4.0</td>\n",
       "      <td>9.3</td>\n",
       "      <td>7.68</td>\n",
       "      <td>7.81</td>\n",
       "    </tr>\n",
       "    <tr>\n",
       "      <th>2011-08-25 00:15:00</th>\n",
       "      <td>0.0</td>\n",
       "      <td>0.0</td>\n",
       "      <td>3.9</td>\n",
       "      <td>8.4</td>\n",
       "      <td>7.60</td>\n",
       "      <td>7.73</td>\n",
       "    </tr>\n",
       "    <tr>\n",
       "      <th>2011-08-25 00:30:00</th>\n",
       "      <td>0.0</td>\n",
       "      <td>0.0</td>\n",
       "      <td>4.3</td>\n",
       "      <td>7.9</td>\n",
       "      <td>7.57</td>\n",
       "      <td>7.63</td>\n",
       "    </tr>\n",
       "    <tr>\n",
       "      <th>2011-08-25 00:45:00</th>\n",
       "      <td>0.0</td>\n",
       "      <td>0.0</td>\n",
       "      <td>4.7</td>\n",
       "      <td>8.1</td>\n",
       "      <td>7.72</td>\n",
       "      <td>7.67</td>\n",
       "    </tr>\n",
       "    <tr>\n",
       "      <th>2011-08-25 01:00:00</th>\n",
       "      <td>0.0</td>\n",
       "      <td>0.0</td>\n",
       "      <td>4.4</td>\n",
       "      <td>8.4</td>\n",
       "      <td>7.74</td>\n",
       "      <td>7.63</td>\n",
       "    </tr>\n",
       "  </tbody>\n",
       "</table>\n",
       "</div>"
      ],
      "text/plain": [
       "                     albany_rainfall  norrie_rainfall  albany_turbidity  \\\n",
       "date                                                                      \n",
       "2011-08-25 00:00:00              0.0              0.0               4.0   \n",
       "2011-08-25 00:15:00              0.0              0.0               3.9   \n",
       "2011-08-25 00:30:00              0.0              0.0               4.3   \n",
       "2011-08-25 00:45:00              0.0              0.0               4.7   \n",
       "2011-08-25 01:00:00              0.0              0.0               4.4   \n",
       "\n",
       "                     norrie_turbidity  albany_do  norrie_do  \n",
       "date                                                         \n",
       "2011-08-25 00:00:00               9.3       7.68       7.81  \n",
       "2011-08-25 00:15:00               8.4       7.60       7.73  \n",
       "2011-08-25 00:30:00               7.9       7.57       7.63  \n",
       "2011-08-25 00:45:00               8.1       7.72       7.67  \n",
       "2011-08-25 01:00:00               8.4       7.74       7.63  "
      ]
     },
     "execution_count": 5,
     "metadata": {},
     "output_type": "execute_result"
    }
   ],
   "source": [
    "# Convert to a datetime and update and set the index\n",
    "data[\"date\"] = pd.to_datetime(data[\"date\"])\n",
    "data.set_index(\"date\", inplace = True)\n",
    "\n",
    "# Verify\n",
    "data.head()"
   ]
  },
  {
   "cell_type": "markdown",
   "id": "11bb7b9c-f398-4a5b-a136-543b8b84199a",
   "metadata": {},
   "source": [
    "## Multiple Linear Regression"
   ]
  },
  {
   "cell_type": "code",
   "execution_count": 6,
   "id": "a4ef17a1-c0ed-49e8-991c-4cff5a600da5",
   "metadata": {
    "tags": []
   },
   "outputs": [
    {
     "name": "stdout",
     "output_type": "stream",
     "text": [
      "RMSE: 221.9143474905527\n",
      "R-squared: 0.490738951845751\n"
     ]
    }
   ],
   "source": [
    "# Define predictors and the target variable\n",
    "X = data[[\"albany_rainfall\", \"albany_do\"]]\n",
    "y = data[[\"albany_turbidity\"]]\n",
    "\n",
    "# Split the data into trainig and testing sets\n",
    "X_train, X_test, y_train, y_test = train_test_split(X, y, test_size = 0.3, random_state = 42)\n",
    "\n",
    "# Create and fit the model\n",
    "model = LinearRegression().fit(X_train, y_train)\n",
    "\n",
    "# Predict and evaluate\n",
    "y_pred = model.predict(X_test)\n",
    "print(f\"RMSE: {np.sqrt(mean_squared_error(y_test, y_pred))}\")\n",
    "print(f\"R-squared: {r2_score(y_test, y_pred)}\")"
   ]
  },
  {
   "cell_type": "markdown",
   "id": "f93d97c1-6294-4227-b050-c17af88cb319",
   "metadata": {},
   "source": [
    "## Create a Widget to Visualize Different Models"
   ]
  },
  {
   "cell_type": "code",
   "execution_count": 7,
   "id": "e56816c3-13ff-4c9c-b08b-0024ab404152",
   "metadata": {
    "tags": []
   },
   "outputs": [
    {
     "data": {
      "application/vnd.jupyter.widget-view+json": {
       "model_id": "928c2275ba4f486da98ee5e83d56dcc7",
       "version_major": 2,
       "version_minor": 0
      },
      "text/plain": [
       "SelectMultiple(description='Predictors', index=(0,), options=('albany_rainfall', 'norrie_rainfall', 'albany_tu…"
      ]
     },
     "metadata": {},
     "output_type": "display_data"
    },
    {
     "data": {
      "application/vnd.jupyter.widget-view+json": {
       "model_id": "018d38f88b264a7fafa8fc2e27e0f8b4",
       "version_major": 2,
       "version_minor": 0
      },
      "text/plain": [
       "Dropdown(description='Target', options=('albany_rainfall', 'norrie_rainfall', 'albany_turbidity', 'norrie_turb…"
      ]
     },
     "metadata": {},
     "output_type": "display_data"
    },
    {
     "data": {
      "application/vnd.jupyter.widget-view+json": {
       "model_id": "8dc1d483a6f74bb493fcc451a6938e1f",
       "version_major": 2,
       "version_minor": 0
      },
      "text/plain": [
       "Button(description='Evaluate Model', style=ButtonStyle())"
      ]
     },
     "metadata": {},
     "output_type": "display_data"
    },
    {
     "data": {
      "application/vnd.jupyter.widget-view+json": {
       "model_id": "c6dcac0cc6784995999f3c624fbfc3ad",
       "version_major": 2,
       "version_minor": 0
      },
      "text/plain": [
       "Output()"
      ]
     },
     "metadata": {},
     "output_type": "display_data"
    }
   ],
   "source": [
    "# Create a widget for selecting predictors\n",
    "predictor_selector = widgets.SelectMultiple(\n",
    "    options = data.columns,\n",
    "    value = [data.columns[0]],\n",
    "    description = \"Predictors\"\n",
    ")\n",
    "\n",
    "# Create a dropdown for selecting the target variable\n",
    "target_selector = widgets.Dropdown(\n",
    "    options = data.columns,\n",
    "    values = data.columns[1],\n",
    "    description = \"Target\"\n",
    ")\n",
    "\n",
    "# Button to evaluate model\n",
    "evaluate_button = widgets.Button(\n",
    "    description = \"Evaluate Model\"\n",
    ")\n",
    "\n",
    "# Output widget to display units\n",
    "output = widgets.Output()\n",
    "\n",
    "# Define the function to handle button clicks\n",
    "def evaluate_model(b):\n",
    "    with output:\n",
    "        clear_output(wait = True) # Clear output of display area\n",
    "        \n",
    "        # Make sure the target is not in the predictors\n",
    "        selected_predictors = [item for item in predictor_selector.value]\n",
    "        if target_selector.value in selected_predictors:\n",
    "            print(\"Target variable must not be in the predictors.\")\n",
    "            return\n",
    "        \n",
    "        # Prepare the data\n",
    "        X = data[selected_predictors]\n",
    "        y = data[target_selector.value]\n",
    "        \n",
    "        # Split data intro training and testing sets\n",
    "        X_train, X_test, y_train, y_test = train_test_split(X, y, test_size = 0.3, random_state = 42)\n",
    "        \n",
    "        # Create and fit the model\n",
    "        model = LinearRegression().fit(X_train, y_train)\n",
    "        \n",
    "        # Predict and calculate R^2 and MSE\n",
    "        y_pred = model.predict(X_test)\n",
    "        r2 = r2_score(y_test, y_pred)\n",
    "        root_mse = np.sqrt(mean_squared_error(y_test, y_pred))\n",
    "        \n",
    "        # Display the R^2 score and MSE\n",
    "        print(f\"R^2: {r2:.4f}\")\n",
    "        print(f\"MSE: {root_mse:.4f}\")\n",
    "\n",
    "# Display the widgets and connect the butto9n to the function\n",
    "display(predictor_selector, target_selector, evaluate_button, output)\n",
    "evaluate_button.on_click(evaluate_model)"
   ]
  }
 ],
 "metadata": {
  "kernelspec": {
   "display_name": "Anaconda 3 (EDS232)",
   "language": "python",
   "name": "ml-env"
  },
  "language_info": {
   "codemirror_mode": {
    "name": "ipython",
    "version": 3
   },
   "file_extension": ".py",
   "mimetype": "text/x-python",
   "name": "python",
   "nbconvert_exporter": "python",
   "pygments_lexer": "ipython3",
   "version": "3.10.16"
  }
 },
 "nbformat": 4,
 "nbformat_minor": 5
}
